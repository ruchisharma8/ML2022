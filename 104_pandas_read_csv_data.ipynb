{
 "cells": [
  {
   "cell_type": "code",
   "execution_count": 1,
   "metadata": {},
   "outputs": [],
   "source": [
    "import numpy\n",
    "import pandas as pd\n",
    "import matplotlib.pyplot as plt"
   ]
  },
  {
   "cell_type": "code",
   "execution_count": null,
   "metadata": {},
   "outputs": [],
   "source": [
    "pd.read_csv('AAPL.csv')"
   ]
  },
  {
   "cell_type": "code",
   "execution_count": 3,
   "metadata": {},
   "outputs": [],
   "source": [
    "data = pd.read_csv('data/AAPL.csv')"
   ]
  },
  {
   "cell_type": "code",
   "execution_count": 5,
   "metadata": {},
   "outputs": [
    {
     "data": {
      "text/html": [
       "<div>\n",
       "<style scoped>\n",
       "    .dataframe tbody tr th:only-of-type {\n",
       "        vertical-align: middle;\n",
       "    }\n",
       "\n",
       "    .dataframe tbody tr th {\n",
       "        vertical-align: top;\n",
       "    }\n",
       "\n",
       "    .dataframe thead th {\n",
       "        text-align: right;\n",
       "    }\n",
       "</style>\n",
       "<table border=\"1\" class=\"dataframe\">\n",
       "  <thead>\n",
       "    <tr style=\"text-align: right;\">\n",
       "      <th></th>\n",
       "      <th>Open</th>\n",
       "      <th>High</th>\n",
       "      <th>Low</th>\n",
       "      <th>Close</th>\n",
       "      <th>Volume</th>\n",
       "      <th>Ex-Dividend</th>\n",
       "      <th>Split Ratio</th>\n",
       "      <th>Adj. Open</th>\n",
       "      <th>Adj. High</th>\n",
       "      <th>Adj. Low</th>\n",
       "      <th>Adj. Close</th>\n",
       "      <th>Adj. Volume</th>\n",
       "    </tr>\n",
       "  </thead>\n",
       "  <tbody>\n",
       "    <tr>\n",
       "      <th>count</th>\n",
       "      <td>2517.000000</td>\n",
       "      <td>2517.000000</td>\n",
       "      <td>2517.000000</td>\n",
       "      <td>2517.000000</td>\n",
       "      <td>2.517000e+03</td>\n",
       "      <td>2517.000000</td>\n",
       "      <td>2517.000000</td>\n",
       "      <td>2517.000000</td>\n",
       "      <td>2517.000000</td>\n",
       "      <td>2517.000000</td>\n",
       "      <td>2517.000000</td>\n",
       "      <td>2.517000e+03</td>\n",
       "    </tr>\n",
       "    <tr>\n",
       "      <th>mean</th>\n",
       "      <td>263.235311</td>\n",
       "      <td>265.801348</td>\n",
       "      <td>260.336205</td>\n",
       "      <td>263.127366</td>\n",
       "      <td>2.852099e+07</td>\n",
       "      <td>0.012106</td>\n",
       "      <td>1.002384</td>\n",
       "      <td>69.530388</td>\n",
       "      <td>70.146739</td>\n",
       "      <td>68.859019</td>\n",
       "      <td>69.521432</td>\n",
       "      <td>1.127563e+08</td>\n",
       "    </tr>\n",
       "    <tr>\n",
       "      <th>std</th>\n",
       "      <td>173.613599</td>\n",
       "      <td>174.982481</td>\n",
       "      <td>171.935276</td>\n",
       "      <td>173.465652</td>\n",
       "      <td>1.864789e+07</td>\n",
       "      <td>0.169834</td>\n",
       "      <td>0.119594</td>\n",
       "      <td>41.249270</td>\n",
       "      <td>41.497832</td>\n",
       "      <td>40.983891</td>\n",
       "      <td>41.256543</td>\n",
       "      <td>9.019723e+07</td>\n",
       "    </tr>\n",
       "    <tr>\n",
       "      <th>min</th>\n",
       "      <td>79.450000</td>\n",
       "      <td>82.000000</td>\n",
       "      <td>78.200000</td>\n",
       "      <td>78.200000</td>\n",
       "      <td>5.624800e+06</td>\n",
       "      <td>0.000000</td>\n",
       "      <td>1.000000</td>\n",
       "      <td>10.210432</td>\n",
       "      <td>10.538143</td>\n",
       "      <td>10.049790</td>\n",
       "      <td>10.049790</td>\n",
       "      <td>1.147592e+07</td>\n",
       "    </tr>\n",
       "    <tr>\n",
       "      <th>25%</th>\n",
       "      <td>117.625000</td>\n",
       "      <td>118.690000</td>\n",
       "      <td>116.490000</td>\n",
       "      <td>117.640000</td>\n",
       "      <td>1.527690e+07</td>\n",
       "      <td>0.000000</td>\n",
       "      <td>1.000000</td>\n",
       "      <td>32.317400</td>\n",
       "      <td>32.723504</td>\n",
       "      <td>31.924147</td>\n",
       "      <td>32.314830</td>\n",
       "      <td>4.705392e+07</td>\n",
       "    </tr>\n",
       "    <tr>\n",
       "      <th>50%</th>\n",
       "      <td>175.570000</td>\n",
       "      <td>179.290000</td>\n",
       "      <td>173.510000</td>\n",
       "      <td>175.740000</td>\n",
       "      <td>2.348750e+07</td>\n",
       "      <td>0.000000</td>\n",
       "      <td>1.000000</td>\n",
       "      <td>66.593564</td>\n",
       "      <td>67.199938</td>\n",
       "      <td>66.004837</td>\n",
       "      <td>66.541004</td>\n",
       "      <td>9.057650e+07</td>\n",
       "    </tr>\n",
       "    <tr>\n",
       "      <th>75%</th>\n",
       "      <td>400.190000</td>\n",
       "      <td>403.980000</td>\n",
       "      <td>395.660000</td>\n",
       "      <td>400.290000</td>\n",
       "      <td>3.641458e+07</td>\n",
       "      <td>0.000000</td>\n",
       "      <td>1.000000</td>\n",
       "      <td>103.339263</td>\n",
       "      <td>104.150222</td>\n",
       "      <td>102.127781</td>\n",
       "      <td>103.284455</td>\n",
       "      <td>1.493842e+08</td>\n",
       "    </tr>\n",
       "    <tr>\n",
       "      <th>max</th>\n",
       "      <td>702.410000</td>\n",
       "      <td>705.070000</td>\n",
       "      <td>699.570000</td>\n",
       "      <td>702.100000</td>\n",
       "      <td>1.895606e+08</td>\n",
       "      <td>3.290000</td>\n",
       "      <td>7.000000</td>\n",
       "      <td>175.110000</td>\n",
       "      <td>176.095000</td>\n",
       "      <td>174.645900</td>\n",
       "      <td>175.880000</td>\n",
       "      <td>8.432424e+08</td>\n",
       "    </tr>\n",
       "  </tbody>\n",
       "</table>\n",
       "</div>"
      ],
      "text/plain": [
       "              Open         High          Low        Close        Volume  \\\n",
       "count  2517.000000  2517.000000  2517.000000  2517.000000  2.517000e+03   \n",
       "mean    263.235311   265.801348   260.336205   263.127366  2.852099e+07   \n",
       "std     173.613599   174.982481   171.935276   173.465652  1.864789e+07   \n",
       "min      79.450000    82.000000    78.200000    78.200000  5.624800e+06   \n",
       "25%     117.625000   118.690000   116.490000   117.640000  1.527690e+07   \n",
       "50%     175.570000   179.290000   173.510000   175.740000  2.348750e+07   \n",
       "75%     400.190000   403.980000   395.660000   400.290000  3.641458e+07   \n",
       "max     702.410000   705.070000   699.570000   702.100000  1.895606e+08   \n",
       "\n",
       "       Ex-Dividend  Split Ratio    Adj. Open    Adj. High     Adj. Low  \\\n",
       "count  2517.000000  2517.000000  2517.000000  2517.000000  2517.000000   \n",
       "mean      0.012106     1.002384    69.530388    70.146739    68.859019   \n",
       "std       0.169834     0.119594    41.249270    41.497832    40.983891   \n",
       "min       0.000000     1.000000    10.210432    10.538143    10.049790   \n",
       "25%       0.000000     1.000000    32.317400    32.723504    31.924147   \n",
       "50%       0.000000     1.000000    66.593564    67.199938    66.004837   \n",
       "75%       0.000000     1.000000   103.339263   104.150222   102.127781   \n",
       "max       3.290000     7.000000   175.110000   176.095000   174.645900   \n",
       "\n",
       "        Adj. Close   Adj. Volume  \n",
       "count  2517.000000  2.517000e+03  \n",
       "mean     69.521432  1.127563e+08  \n",
       "std      41.256543  9.019723e+07  \n",
       "min      10.049790  1.147592e+07  \n",
       "25%      32.314830  4.705392e+07  \n",
       "50%      66.541004  9.057650e+07  \n",
       "75%     103.284455  1.493842e+08  \n",
       "max     175.880000  8.432424e+08  "
      ]
     },
     "execution_count": 5,
     "metadata": {},
     "output_type": "execute_result"
    }
   ],
   "source": [
    "data.describe()"
   ]
  },
  {
   "cell_type": "code",
   "execution_count": 6,
   "metadata": {},
   "outputs": [
    {
     "data": {
      "text/plain": [
       "<AxesSubplot:>"
      ]
     },
     "execution_count": 6,
     "metadata": {},
     "output_type": "execute_result"
    },
    {
     "data": {
      "image/png": "[encoded data removed]",
      "text/plain": [
       "<Figure size 432x288 with 1 Axes>"
      ]
     },
     "metadata": {
      "needs_background": "light"
     },
     "output_type": "display_data"
    }
   ],
   "source": [
    "data.plot()"
   ]
  },
  {
   "cell_type": "code",
   "execution_count": 7,
   "metadata": {},
   "outputs": [
    {
     "data": {
      "text/plain": [
       "<AxesSubplot:>"
      ]
     },
     "execution_count": 7,
     "metadata": {},
     "output_type": "execute_result"
    },
    {
     "data": {
      "image/png": "[encoded data removed]",
      "text/plain": [
       "<Figure size 432x288 with 1 Axes>"
      ]
     },
     "metadata": {
      "needs_background": "light"
     },
     "output_type": "display_data"
    }
   ],
   "source": [
    "data['Open'].plot()"
   ]
  },
  {
   "cell_type": "code",
   "execution_count": 11,
   "metadata": {},
   "outputs": [
    {
     "name": "stdout",
     "output_type": "stream",
     "text": [
      "<class 'pandas.core.frame.DataFrame'>\n",
      "RangeIndex: 2517 entries, 0 to 2516\n",
      "Data columns (total 13 columns):\n",
      " #   Column       Non-Null Count  Dtype  \n",
      "---  ------       --------------  -----  \n",
      " 0   Date         2517 non-null   object \n",
      " 1   Open         2517 non-null   float64\n",
      " 2   High         2517 non-null   float64\n",
      " 3   Low          2517 non-null   float64\n",
      " 4   Close        2517 non-null   float64\n",
      " 5   Volume       2517 non-null   float64\n",
      " 6   Ex-Dividend  2517 non-null   float64\n",
      " 7   Split Ratio  2517 non-null   float64\n",
      " 8   Adj. Open    2517 non-null   float64\n",
      " 9   Adj. High    2517 non-null   float64\n",
      " 10  Adj. Low     2517 non-null   float64\n",
      " 11  Adj. Close   2517 non-null   float64\n",
      " 12  Adj. Volume  2517 non-null   float64\n",
      "dtypes: float64(12), object(1)\n",
      "memory usage: 255.8+ KB\n"
     ]
    }
   ],
   "source": [
    "data.info()"
   ]
  },
  {
   "cell_type": "code",
   "execution_count": 9,
   "metadata": {},
   "outputs": [
    {
     "data": {
      "text/plain": [
       "Index(['Date', 'Open', 'High', 'Low', 'Close', 'Volume', 'Ex-Dividend',\n",
       "       'Split Ratio', 'Adj. Open', 'Adj. High', 'Adj. Low', 'Adj. Close',\n",
       "       'Adj. Volume'],\n",
       "      dtype='object')"
      ]
     },
     "execution_count": 9,
     "metadata": {},
     "output_type": "execute_result"
    }
   ],
   "source": [
    "data.columns"
   ]
  },
  {
   "cell_type": "code",
   "execution_count": 10,
   "metadata": {},
   "outputs": [
    {
     "data": {
      "text/plain": [
       "Date            object\n",
       "Open           float64\n",
       "High           float64\n",
       "Low            float64\n",
       "Close          float64\n",
       "Volume         float64\n",
       "Ex-Dividend    float64\n",
       "Split Ratio    float64\n",
       "Adj. Open      float64\n",
       "Adj. High      float64\n",
       "Adj. Low       float64\n",
       "Adj. Close     float64\n",
       "Adj. Volume    float64\n",
       "dtype: object"
      ]
     },
     "execution_count": 10,
     "metadata": {},
     "output_type": "execute_result"
    }
   ],
   "source": [
    "data.dtypes"
   ]
  },
  {
   "cell_type": "code",
   "execution_count": 14,
   "metadata": {},
   "outputs": [
    {
     "data": {
      "text/html": [
       "<div>\n",
       "<style scoped>\n",
       "    .dataframe tbody tr th:only-of-type {\n",
       "        vertical-align: middle;\n",
       "    }\n",
       "\n",
       "    .dataframe tbody tr th {\n",
       "        vertical-align: top;\n",
       "    }\n",
       "\n",
       "    .dataframe thead th {\n",
       "        text-align: right;\n",
       "    }\n",
       "</style>\n",
       "<table border=\"1\" class=\"dataframe\">\n",
       "  <thead>\n",
       "    <tr style=\"text-align: right;\">\n",
       "      <th></th>\n",
       "      <th>Open</th>\n",
       "      <th>High</th>\n",
       "      <th>Low</th>\n",
       "      <th>Close</th>\n",
       "      <th>Volume</th>\n",
       "      <th>Ex-Dividend</th>\n",
       "      <th>Split Ratio</th>\n",
       "      <th>Adj. Open</th>\n",
       "      <th>Adj. High</th>\n",
       "      <th>Adj. Low</th>\n",
       "      <th>Adj. Close</th>\n",
       "      <th>Adj. Volume</th>\n",
       "    </tr>\n",
       "  </thead>\n",
       "  <tbody>\n",
       "    <tr>\n",
       "      <th>count</th>\n",
       "      <td>2517.000000</td>\n",
       "      <td>2517.000000</td>\n",
       "      <td>2517.000000</td>\n",
       "      <td>2517.000000</td>\n",
       "      <td>2.517000e+03</td>\n",
       "      <td>2517.000000</td>\n",
       "      <td>2517.000000</td>\n",
       "      <td>2517.000000</td>\n",
       "      <td>2517.000000</td>\n",
       "      <td>2517.000000</td>\n",
       "      <td>2517.000000</td>\n",
       "      <td>2.517000e+03</td>\n",
       "    </tr>\n",
       "    <tr>\n",
       "      <th>mean</th>\n",
       "      <td>263.235311</td>\n",
       "      <td>265.801348</td>\n",
       "      <td>260.336205</td>\n",
       "      <td>263.127366</td>\n",
       "      <td>2.852099e+07</td>\n",
       "      <td>0.012106</td>\n",
       "      <td>1.002384</td>\n",
       "      <td>69.530388</td>\n",
       "      <td>70.146739</td>\n",
       "      <td>68.859019</td>\n",
       "      <td>69.521432</td>\n",
       "      <td>1.127563e+08</td>\n",
       "    </tr>\n",
       "    <tr>\n",
       "      <th>std</th>\n",
       "      <td>173.613599</td>\n",
       "      <td>174.982481</td>\n",
       "      <td>171.935276</td>\n",
       "      <td>173.465652</td>\n",
       "      <td>1.864789e+07</td>\n",
       "      <td>0.169834</td>\n",
       "      <td>0.119594</td>\n",
       "      <td>41.249270</td>\n",
       "      <td>41.497832</td>\n",
       "      <td>40.983891</td>\n",
       "      <td>41.256543</td>\n",
       "      <td>9.019723e+07</td>\n",
       "    </tr>\n",
       "    <tr>\n",
       "      <th>min</th>\n",
       "      <td>79.450000</td>\n",
       "      <td>82.000000</td>\n",
       "      <td>78.200000</td>\n",
       "      <td>78.200000</td>\n",
       "      <td>5.624800e+06</td>\n",
       "      <td>0.000000</td>\n",
       "      <td>1.000000</td>\n",
       "      <td>10.210432</td>\n",
       "      <td>10.538143</td>\n",
       "      <td>10.049790</td>\n",
       "      <td>10.049790</td>\n",
       "      <td>1.147592e+07</td>\n",
       "    </tr>\n",
       "    <tr>\n",
       "      <th>25%</th>\n",
       "      <td>117.625000</td>\n",
       "      <td>118.690000</td>\n",
       "      <td>116.490000</td>\n",
       "      <td>117.640000</td>\n",
       "      <td>1.527690e+07</td>\n",
       "      <td>0.000000</td>\n",
       "      <td>1.000000</td>\n",
       "      <td>32.317400</td>\n",
       "      <td>32.723504</td>\n",
       "      <td>31.924147</td>\n",
       "      <td>32.314830</td>\n",
       "      <td>4.705392e+07</td>\n",
       "    </tr>\n",
       "    <tr>\n",
       "      <th>50%</th>\n",
       "      <td>175.570000</td>\n",
       "      <td>179.290000</td>\n",
       "      <td>173.510000</td>\n",
       "      <td>175.740000</td>\n",
       "      <td>2.348750e+07</td>\n",
       "      <td>0.000000</td>\n",
       "      <td>1.000000</td>\n",
       "      <td>66.593564</td>\n",
       "      <td>67.199938</td>\n",
       "      <td>66.004837</td>\n",
       "      <td>66.541004</td>\n",
       "      <td>9.057650e+07</td>\n",
       "    </tr>\n",
       "    <tr>\n",
       "      <th>75%</th>\n",
       "      <td>400.190000</td>\n",
       "      <td>403.980000</td>\n",
       "      <td>395.660000</td>\n",
       "      <td>400.290000</td>\n",
       "      <td>3.641458e+07</td>\n",
       "      <td>0.000000</td>\n",
       "      <td>1.000000</td>\n",
       "      <td>103.339263</td>\n",
       "      <td>104.150222</td>\n",
       "      <td>102.127781</td>\n",
       "      <td>103.284455</td>\n",
       "      <td>1.493842e+08</td>\n",
       "    </tr>\n",
       "    <tr>\n",
       "      <th>max</th>\n",
       "      <td>702.410000</td>\n",
       "      <td>705.070000</td>\n",
       "      <td>699.570000</td>\n",
       "      <td>702.100000</td>\n",
       "      <td>1.895606e+08</td>\n",
       "      <td>3.290000</td>\n",
       "      <td>7.000000</td>\n",
       "      <td>175.110000</td>\n",
       "      <td>176.095000</td>\n",
       "      <td>174.645900</td>\n",
       "      <td>175.880000</td>\n",
       "      <td>8.432424e+08</td>\n",
       "    </tr>\n",
       "  </tbody>\n",
       "</table>\n",
       "</div>"
      ],
      "text/plain": [
       "              Open         High          Low        Close        Volume  \\\n",
       "count  2517.000000  2517.000000  2517.000000  2517.000000  2.517000e+03   \n",
       "mean    263.235311   265.801348   260.336205   263.127366  2.852099e+07   \n",
       "std     173.613599   174.982481   171.935276   173.465652  1.864789e+07   \n",
       "min      79.450000    82.000000    78.200000    78.200000  5.624800e+06   \n",
       "25%     117.625000   118.690000   116.490000   117.640000  1.527690e+07   \n",
       "50%     175.570000   179.290000   173.510000   175.740000  2.348750e+07   \n",
       "75%     400.190000   403.980000   395.660000   400.290000  3.641458e+07   \n",
       "max     702.410000   705.070000   699.570000   702.100000  1.895606e+08   \n",
       "\n",
       "       Ex-Dividend  Split Ratio    Adj. Open    Adj. High     Adj. Low  \\\n",
       "count  2517.000000  2517.000000  2517.000000  2517.000000  2517.000000   \n",
       "mean      0.012106     1.002384    69.530388    70.146739    68.859019   \n",
       "std       0.169834     0.119594    41.249270    41.497832    40.983891   \n",
       "min       0.000000     1.000000    10.210432    10.538143    10.049790   \n",
       "25%       0.000000     1.000000    32.317400    32.723504    31.924147   \n",
       "50%       0.000000     1.000000    66.593564    67.199938    66.004837   \n",
       "75%       0.000000     1.000000   103.339263   104.150222   102.127781   \n",
       "max       3.290000     7.000000   175.110000   176.095000   174.645900   \n",
       "\n",
       "        Adj. Close   Adj. Volume  \n",
       "count  2517.000000  2.517000e+03  \n",
       "mean     69.521432  1.127563e+08  \n",
       "std      41.256543  9.019723e+07  \n",
       "min      10.049790  1.147592e+07  \n",
       "25%      32.314830  4.705392e+07  \n",
       "50%      66.541004  9.057650e+07  \n",
       "75%     103.284455  1.493842e+08  \n",
       "max     175.880000  8.432424e+08  "
      ]
     },
     "execution_count": 14,
     "metadata": {},
     "output_type": "execute_result"
    }
   ],
   "source": [
    "data.describe()"
   ]
  },
  {
   "cell_type": "code",
   "execution_count": null,
   "metadata": {},
   "outputs": [],
   "source": []
  },
  {
   "cell_type": "code",
   "execution_count": null,
   "metadata": {},
   "outputs": [],
   "source": []
  },
  {
   "cell_type": "code",
   "execution_count": 15,
   "metadata": {},
   "outputs": [
    {
     "name": "stdout",
     "output_type": "stream",
     "text": [
      "<class 'pandas.core.frame.DataFrame'>\n",
      "RangeIndex: 2517 entries, 0 to 2516\n",
      "Data columns (total 13 columns):\n",
      " #   Column       Non-Null Count  Dtype  \n",
      "---  ------       --------------  -----  \n",
      " 0   Date         2517 non-null   object \n",
      " 1   Open         2517 non-null   float64\n",
      " 2   High         2517 non-null   float64\n",
      " 3   Low          2517 non-null   float64\n",
      " 4   Close        2517 non-null   float64\n",
      " 5   Volume       2517 non-null   float64\n",
      " 6   Ex-Dividend  2517 non-null   float64\n",
      " 7   Split Ratio  2517 non-null   float64\n",
      " 8   Adj. Open    2517 non-null   float64\n",
      " 9   Adj. High    2517 non-null   float64\n",
      " 10  Adj. Low     2517 non-null   float64\n",
      " 11  Adj. Close   2517 non-null   float64\n",
      " 12  Adj. Volume  2517 non-null   float64\n",
      "dtypes: float64(12), object(1)\n",
      "memory usage: 255.8+ KB\n"
     ]
    }
   ],
   "source": [
    "data.info()"
   ]
  },
  {
   "cell_type": "code",
   "execution_count": 16,
   "metadata": {},
   "outputs": [
    {
     "data": {
      "text/plain": [
       "<bound method NDFrame.describe of             Date    Open    High     Low     Close      Volume  Ex-Dividend  \\\n",
       "0     2007-12-03  181.86  184.14  177.70  178.8600  34338200.0          0.0   \n",
       "1     2007-12-04  177.15  180.90  176.99  179.8100  27635700.0          0.0   \n",
       "2     2007-12-05  182.89  186.00  182.41  185.5000  31871500.0          0.0   \n",
       "3     2007-12-06  186.19  190.10  186.12  189.9528  32136100.0          0.0   \n",
       "4     2007-12-07  190.54  194.99  188.04  194.3000  38073800.0          0.0   \n",
       "...          ...     ...     ...     ...       ...         ...          ...   \n",
       "2512  2017-11-27  175.05  175.08  173.34  174.0900  20536313.0          0.0   \n",
       "2513  2017-11-28  174.30  174.87  171.86  173.0700  25468442.0          0.0   \n",
       "2514  2017-11-29  172.63  172.92  167.16  169.4800  40788324.0          0.0   \n",
       "2515  2017-11-30  170.43  172.14  168.44  171.8500  40172368.0          0.0   \n",
       "2516  2017-12-01  169.95  171.67  168.50  171.0500  39590080.0          0.0   \n",
       "\n",
       "      Split Ratio   Adj. Open   Adj. High    Adj. Low  Adj. Close  Adj. Volume  \n",
       "0             1.0   23.371545   23.664556   22.836927   22.986003  240367400.0  \n",
       "1             1.0   22.766244   23.248171   22.745682   23.108091  193449900.0  \n",
       "2             1.0   23.503914   23.903592   23.442227   23.839335  223100500.0  \n",
       "3             1.0   23.928010   24.430500   23.919014   24.411582  224952700.0  \n",
       "4             1.0   24.487046   25.058933   24.165761   24.970258  266516600.0  \n",
       "...           ...         ...         ...         ...         ...          ...  \n",
       "2512          1.0  175.050000  175.080000  173.340000  174.090000   20536313.0  \n",
       "2513          1.0  174.300000  174.870000  171.860000  173.070000   25468442.0  \n",
       "2514          1.0  172.630000  172.920000  167.160000  169.480000   40788324.0  \n",
       "2515          1.0  170.430000  172.140000  168.440000  171.850000   40172368.0  \n",
       "2516          1.0  169.950000  171.670000  168.500000  171.050000   39590080.0  \n",
       "\n",
       "[2517 rows x 13 columns]>"
      ]
     },
     "execution_count": 16,
     "metadata": {},
     "output_type": "execute_result"
    }
   ],
   "source": [
    "data.describe"
   ]
  },
  {
   "cell_type": "code",
   "execution_count": 17,
   "metadata": {},
   "outputs": [
    {
     "data": {
      "text/plain": [
       "<bound method DataFrame.info of             Date    Open    High     Low     Close      Volume  Ex-Dividend  \\\n",
       "0     2007-12-03  181.86  184.14  177.70  178.8600  34338200.0          0.0   \n",
       "1     2007-12-04  177.15  180.90  176.99  179.8100  27635700.0          0.0   \n",
       "2     2007-12-05  182.89  186.00  182.41  185.5000  31871500.0          0.0   \n",
       "3     2007-12-06  186.19  190.10  186.12  189.9528  32136100.0          0.0   \n",
       "4     2007-12-07  190.54  194.99  188.04  194.3000  38073800.0          0.0   \n",
       "...          ...     ...     ...     ...       ...         ...          ...   \n",
       "2512  2017-11-27  175.05  175.08  173.34  174.0900  20536313.0          0.0   \n",
       "2513  2017-11-28  174.30  174.87  171.86  173.0700  25468442.0          0.0   \n",
       "2514  2017-11-29  172.63  172.92  167.16  169.4800  40788324.0          0.0   \n",
       "2515  2017-11-30  170.43  172.14  168.44  171.8500  40172368.0          0.0   \n",
       "2516  2017-12-01  169.95  171.67  168.50  171.0500  39590080.0          0.0   \n",
       "\n",
       "      Split Ratio   Adj. Open   Adj. High    Adj. Low  Adj. Close  Adj. Volume  \n",
       "0             1.0   23.371545   23.664556   22.836927   22.986003  240367400.0  \n",
       "1             1.0   22.766244   23.248171   22.745682   23.108091  193449900.0  \n",
       "2             1.0   23.503914   23.903592   23.442227   23.839335  223100500.0  \n",
       "3             1.0   23.928010   24.430500   23.919014   24.411582  224952700.0  \n",
       "4             1.0   24.487046   25.058933   24.165761   24.970258  266516600.0  \n",
       "...           ...         ...         ...         ...         ...          ...  \n",
       "2512          1.0  175.050000  175.080000  173.340000  174.090000   20536313.0  \n",
       "2513          1.0  174.300000  174.870000  171.860000  173.070000   25468442.0  \n",
       "2514          1.0  172.630000  172.920000  167.160000  169.480000   40788324.0  \n",
       "2515          1.0  170.430000  172.140000  168.440000  171.850000   40172368.0  \n",
       "2516          1.0  169.950000  171.670000  168.500000  171.050000   39590080.0  \n",
       "\n",
       "[2517 rows x 13 columns]>"
      ]
     },
     "execution_count": 17,
     "metadata": {},
     "output_type": "execute_result"
    }
   ],
   "source": [
    "data.info"
   ]
  },
  {
   "cell_type": "code",
   "execution_count": null,
   "metadata": {},
   "outputs": [],
   "source": []
  }
 ],
 "metadata": {
  "kernelspec": {
   "display_name": "Python 3 (ipykernel)",
   "language": "python",
   "name": "python3"
  },
  "language_info": {
   "codemirror_mode": {
    "name": "ipython",
    "version": 3
   },
   "file_extension": ".py",
   "mimetype": "text/x-python",
   "name": "python",
   "nbconvert_exporter": "python",
   "pygments_lexer": "ipython3",
   "version": "3.9.7"
  }
 },
 "nbformat": 4,
 "nbformat_minor": 2
}
