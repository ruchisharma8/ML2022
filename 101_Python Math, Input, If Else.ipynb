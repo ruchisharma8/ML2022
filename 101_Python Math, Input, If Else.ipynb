{
 "cells": [
  {
   "cell_type": "markdown",
   "id": "f88d2072",
   "metadata": {},
   "source": [
    "## Import Math Function"
   ]
  },
  {
   "cell_type": "code",
   "execution_count": 1,
   "id": "41fadb70",
   "metadata": {},
   "outputs": [],
   "source": [
    "import math as m"
   ]
  },
  {
   "cell_type": "code",
   "execution_count": 2,
   "id": "c01b3c34",
   "metadata": {},
   "outputs": [
    {
     "data": {
      "text/plain": [
       "2.0"
      ]
     },
     "execution_count": 2,
     "metadata": {},
     "output_type": "execute_result"
    }
   ],
   "source": [
    "m.sqrt(4)"
   ]
  },
  {
   "cell_type": "code",
   "execution_count": 3,
   "id": "b63835d4",
   "metadata": {},
   "outputs": [
    {
     "data": {
      "text/plain": [
       "27.0"
      ]
     },
     "execution_count": 3,
     "metadata": {},
     "output_type": "execute_result"
    }
   ],
   "source": [
    "m.pow(3,3)"
   ]
  },
  {
   "cell_type": "code",
   "execution_count": 4,
   "id": "405308f6",
   "metadata": {},
   "outputs": [
    {
     "data": {
      "text/plain": [
       "2.718281828459045"
      ]
     },
     "execution_count": 4,
     "metadata": {},
     "output_type": "execute_result"
    }
   ],
   "source": [
    "m.e"
   ]
  },
  {
   "cell_type": "code",
   "execution_count": 5,
   "id": "8377f44f",
   "metadata": {},
   "outputs": [
    {
     "data": {
      "text/plain": [
       "30"
      ]
     },
     "execution_count": 5,
     "metadata": {},
     "output_type": "execute_result"
    }
   ],
   "source": [
    "a = 10\n",
    "b= 20\n",
    "c=a+b\n",
    "c"
   ]
  },
  {
   "cell_type": "markdown",
   "id": "b3840c33",
   "metadata": {},
   "source": [
    "## Input Function"
   ]
  },
  {
   "cell_type": "code",
   "execution_count": 6,
   "id": "b43f1993",
   "metadata": {},
   "outputs": [
    {
     "name": "stdout",
     "output_type": "stream",
     "text": [
      "Enter 1st number3\n",
      "Enter 2nd number4\n",
      "7\n"
     ]
    }
   ],
   "source": [
    "a = int(input(\"Enter 1st number\"))\n",
    "b = int(input(\"Enter 2nd number\"))\n",
    "c = a+b\n",
    "print(c)"
   ]
  },
  {
   "cell_type": "code",
   "execution_count": 7,
   "id": "60cc8e33",
   "metadata": {},
   "outputs": [
    {
     "data": {
      "text/plain": [
       "int"
      ]
     },
     "execution_count": 7,
     "metadata": {},
     "output_type": "execute_result"
    }
   ],
   "source": [
    "type(c)"
   ]
  },
  {
   "cell_type": "code",
   "execution_count": 8,
   "id": "43126d54",
   "metadata": {},
   "outputs": [
    {
     "name": "stdout",
     "output_type": "stream",
     "text": [
      "Enter any character:Python\n",
      "Python\n"
     ]
    }
   ],
   "source": [
    "char = input(\"Enter any character:\")\n",
    "print(char)"
   ]
  },
  {
   "cell_type": "code",
   "execution_count": 9,
   "id": "44253b81",
   "metadata": {},
   "outputs": [
    {
     "name": "stdout",
     "output_type": "stream",
     "text": [
      "Enter any expression:4+3-2\n",
      "5\n"
     ]
    }
   ],
   "source": [
    "result =eval(input(\"Enter any expression:\"))\n",
    "print(result)"
   ]
  },
  {
   "cell_type": "markdown",
   "id": "69496104",
   "metadata": {},
   "source": [
    "# Decision Making Statement\n",
    "# If..Else"
   ]
  },
  {
   "cell_type": "code",
   "execution_count": 10,
   "id": "a56c2035",
   "metadata": {},
   "outputs": [
    {
     "name": "stdout",
     "output_type": "stream",
     "text": [
      "B is greater than A\n"
     ]
    }
   ],
   "source": [
    "a = 10\n",
    "b = 20\n",
    "if b>a:\n",
    "    print(\"B is greater than A\")\n",
    "else:\n",
    "    print(\"A is greater than B\")\n",
    "    "
   ]
  },
  {
   "cell_type": "code",
   "execution_count": 11,
   "id": "da2a0e07",
   "metadata": {},
   "outputs": [
    {
     "name": "stdout",
     "output_type": "stream",
     "text": [
      "Enter 1st number30\n",
      "Enter 2nd number20\n",
      "A is greater than B\n"
     ]
    }
   ],
   "source": [
    "a = int(input(\"Enter 1st number\"))\n",
    "b = int(input(\"Enter 2nd number\"))\n",
    "if b>a:\n",
    "    print(\"B is greater than A\")\n",
    "else:\n",
    "    print(\"A is greater than B\")\n",
    "    "
   ]
  },
  {
   "cell_type": "markdown",
   "id": "0bf48fa5",
   "metadata": {},
   "source": [
    "## if with Tuple"
   ]
  },
  {
   "cell_type": "code",
   "execution_count": 13,
   "id": "007a4913",
   "metadata": {},
   "outputs": [
    {
     "name": "stdout",
     "output_type": "stream",
     "text": [
      "Value is present in tup\n"
     ]
    }
   ],
   "source": [
    "tup = ('a','b','c','d')\n",
    "if \"a\" in tup:\n",
    "    print(\"Value is present in tup\")\n",
    "else:\n",
    "    print(\"Value is not present in tup\")"
   ]
  },
  {
   "cell_type": "code",
   "execution_count": 16,
   "id": "eecc706f",
   "metadata": {},
   "outputs": [
    {
     "name": "stdout",
     "output_type": "stream",
     "text": [
      "Enter any number9\n",
      "Value is not present in tup\n"
     ]
    }
   ],
   "source": [
    "tup = (1,2,3,5,6,8)\n",
    "num = int(input(\"Enter any number\"))\n",
    "if num in tup:\n",
    "    print(\"Value is present in tup\")\n",
    "else:\n",
    "    print(\"Value is not present in tup\")"
   ]
  },
  {
   "cell_type": "markdown",
   "id": "9bae76da",
   "metadata": {},
   "source": [
    "# Check if the number is odd or even"
   ]
  },
  {
   "cell_type": "code",
   "execution_count": 19,
   "id": "043e5b9c",
   "metadata": {},
   "outputs": [
    {
     "name": "stdout",
     "output_type": "stream",
     "text": [
      "Enter any number :5\n",
      "Odd\n"
     ]
    }
   ],
   "source": [
    "n = int(input(\"Enter any number :\"))\n",
    "if n%2==0:\n",
    "    print(\"Even\")\n",
    "else:\n",
    "    print(\"Odd\")"
   ]
  },
  {
   "cell_type": "code",
   "execution_count": 21,
   "id": "4ea7cab3",
   "metadata": {},
   "outputs": [
    {
     "name": "stdout",
     "output_type": "stream",
     "text": [
      "Enter any number from 10-100:6\n",
      "Number is not in limit\n"
     ]
    }
   ],
   "source": [
    "# Nested if\n",
    "n = int(input(\"Enter any number from 10-100:\"))\n",
    "if n>10:\n",
    "    print(\"Number is above 10\")\n",
    "    if n<100:\n",
    "        print(\"Number is within range)\")\n",
    "else:\n",
    "    print(\"Number is not in limit\")"
   ]
  },
  {
   "cell_type": "code",
   "execution_count": 23,
   "id": "f4f1c705",
   "metadata": {},
   "outputs": [
    {
     "name": "stdout",
     "output_type": "stream",
     "text": [
      "Enter any number6\n",
      "wrong Input\n"
     ]
    }
   ],
   "source": [
    "# if elif\n",
    "n = int(input(\"Enter any number\"))\n",
    "if n==1:\n",
    "    print(\"One\")\n",
    "elif n==2:\n",
    "    print(\"Two\")\n",
    "elif n==3:\n",
    "    print(\"Three\")\n",
    "else:\n",
    "    print(\"wrong Input\")"
   ]
  },
  {
   "cell_type": "code",
   "execution_count": null,
   "id": "5b9d8664",
   "metadata": {},
   "outputs": [],
   "source": []
  }
 ],
 "metadata": {
  "kernelspec": {
   "display_name": "Python 3 (ipykernel)",
   "language": "python",
   "name": "python3"
  },
  "language_info": {
   "codemirror_mode": {
    "name": "ipython",
    "version": 3
   },
   "file_extension": ".py",
   "mimetype": "text/x-python",
   "name": "python",
   "nbconvert_exporter": "python",
   "pygments_lexer": "ipython3",
   "version": "3.9.12"
  }
 },
 "nbformat": 4,
 "nbformat_minor": 5
}
