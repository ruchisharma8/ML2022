{
 "cells": [
  {
   "cell_type": "code",
   "execution_count": null,
   "id": "faa1974b",
   "metadata": {},
   "outputs": [],
   "source": [
    "### Car\n",
    "Values:\n",
    "- model \n",
    "- make\n",
    "- color\n",
    "- type (automatic/manual)\n",
    "- car price\n",
    "- fuel type (petrol, disel, electric, cng)\n",
    "\n",
    "Action: method, function, \n",
    "    - move backward\n",
    "    - right turn\n",
    "    - left turn\n",
    "    - start\n",
    "    - stop\n",
    "    - change gear\n",
    "    - increase speed\n",
    "    - apply break\n",
    "    \n",
    "    \n",
    "    \n",
    "- keyword\n",
    "- variable\n",
    "\n",
    "\n",
    "stock:\n",
    "apple: price 40\n",
    "infy: price 100\n",
    "    \n",
    "one apple + one infy\n",
    "\n",
    "40 + 100 \n",
    "140\n",
    "\n",
    "\n",
    "sum of two numbers(number1, number2)\n",
    "\n",
    "stock_sum(stockprice1, stockprice2):\n",
    "    final_price = stockprice1 + stockprice2\n",
    "    return final_price\n",
    "    \n",
    "\n",
    "stock_sum(100, 40)\n",
    "\n",
    "= 140\n"
   ]
  }
 ],
 "metadata": {
  "kernelspec": {
   "display_name": "Python 3 (ipykernel)",
   "language": "python",
   "name": "python3"
  },
  "language_info": {
   "codemirror_mode": {
    "name": "ipython",
    "version": 3
   },
   "file_extension": ".py",
   "mimetype": "text/x-python",
   "name": "python",
   "nbconvert_exporter": "python",
   "pygments_lexer": "ipython3",
   "version": "3.9.7"
  }
 },
 "nbformat": 4,
 "nbformat_minor": 5
}
