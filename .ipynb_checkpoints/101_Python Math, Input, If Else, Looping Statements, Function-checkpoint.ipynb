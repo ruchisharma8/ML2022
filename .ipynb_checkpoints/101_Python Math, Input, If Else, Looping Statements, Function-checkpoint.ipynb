{
 "cells": [
  {
   "cell_type": "markdown",
   "id": "cd5472bd",
   "metadata": {},
   "source": [
    "## Import Math Function"
   ]
  },
  {
   "cell_type": "code",
   "execution_count": 1,
   "id": "1634cae9",
   "metadata": {},
   "outputs": [],
   "source": [
    "import math as m"
   ]
  },
  {
   "cell_type": "code",
   "execution_count": 2,
   "id": "c52a0a7d",
   "metadata": {},
   "outputs": [
    {
     "data": {
      "text/plain": [
       "2.0"
      ]
     },
     "execution_count": 2,
     "metadata": {},
     "output_type": "execute_result"
    }
   ],
   "source": [
    "m.sqrt(4)"
   ]
  },
  {
   "cell_type": "code",
   "execution_count": 3,
   "id": "929f926b",
   "metadata": {},
   "outputs": [
    {
     "data": {
      "text/plain": [
       "27.0"
      ]
     },
     "execution_count": 3,
     "metadata": {},
     "output_type": "execute_result"
    }
   ],
   "source": [
    "m.pow(3,3)"
   ]
  },
  {
   "cell_type": "code",
   "execution_count": 4,
   "id": "7bc29b72",
   "metadata": {},
   "outputs": [
    {
     "data": {
      "text/plain": [
       "2.718281828459045"
      ]
     },
     "execution_count": 4,
     "metadata": {},
     "output_type": "execute_result"
    }
   ],
   "source": [
    "m.e"
   ]
  },
  {
   "cell_type": "code",
   "execution_count": 5,
   "id": "b549be1b",
   "metadata": {},
   "outputs": [
    {
     "data": {
      "text/plain": [
       "30"
      ]
     },
     "execution_count": 5,
     "metadata": {},
     "output_type": "execute_result"
    }
   ],
   "source": [
    "a = 10\n",
    "b= 20\n",
    "c=a+b\n",
    "c"
   ]
  },
  {
   "cell_type": "markdown",
   "id": "a6ed11bf",
   "metadata": {},
   "source": [
    "## Input Function"
   ]
  },
  {
   "cell_type": "code",
   "execution_count": 6,
   "id": "60e646a9",
   "metadata": {},
   "outputs": [
    {
     "name": "stdout",
     "output_type": "stream",
     "text": [
      "Enter 1st number3\n",
      "Enter 2nd number4\n",
      "7\n"
     ]
    }
   ],
   "source": [
    "a = int(input(\"Enter 1st number\"))\n",
    "b = int(input(\"Enter 2nd number\"))\n",
    "c = a+b\n",
    "print(c)"
   ]
  },
  {
   "cell_type": "code",
   "execution_count": 7,
   "id": "b4de8db3",
   "metadata": {},
   "outputs": [
    {
     "data": {
      "text/plain": [
       "int"
      ]
     },
     "execution_count": 7,
     "metadata": {},
     "output_type": "execute_result"
    }
   ],
   "source": [
    "type(c)"
   ]
  },
  {
   "cell_type": "code",
   "execution_count": 8,
   "id": "1550faf0",
   "metadata": {},
   "outputs": [
    {
     "name": "stdout",
     "output_type": "stream",
     "text": [
      "Enter any character:Python\n",
      "Python\n"
     ]
    }
   ],
   "source": [
    "char = input(\"Enter any character:\")\n",
    "print(char)"
   ]
  },
  {
   "cell_type": "code",
   "execution_count": 9,
   "id": "172e3299",
   "metadata": {},
   "outputs": [
    {
     "name": "stdout",
     "output_type": "stream",
     "text": [
      "Enter any expression:4+3-2\n",
      "5\n"
     ]
    }
   ],
   "source": [
    "result =eval(input(\"Enter any expression:\"))\n",
    "print(result)"
   ]
  },
  {
   "cell_type": "markdown",
   "id": "239d1d4f",
   "metadata": {},
   "source": [
    "# Decision Making Statement\n",
    "# If..Else"
   ]
  },
  {
   "cell_type": "code",
   "execution_count": 10,
   "id": "be112c06",
   "metadata": {},
   "outputs": [
    {
     "name": "stdout",
     "output_type": "stream",
     "text": [
      "B is greater than A\n"
     ]
    }
   ],
   "source": [
    "a = 10\n",
    "b = 20\n",
    "if b>a:\n",
    "    print(\"B is greater than A\")\n",
    "else:\n",
    "    print(\"A is greater than B\")\n",
    "    "
   ]
  },
  {
   "cell_type": "code",
   "execution_count": 11,
   "id": "50f88440",
   "metadata": {},
   "outputs": [
    {
     "name": "stdout",
     "output_type": "stream",
     "text": [
      "Enter 1st number30\n",
      "Enter 2nd number20\n",
      "A is greater than B\n"
     ]
    }
   ],
   "source": [
    "a = int(input(\"Enter 1st number\"))\n",
    "b = int(input(\"Enter 2nd number\"))\n",
    "if b>a:\n",
    "    print(\"B is greater than A\")\n",
    "else:\n",
    "    print(\"A is greater than B\")\n",
    "    "
   ]
  },
  {
   "cell_type": "markdown",
   "id": "f73d1dad",
   "metadata": {},
   "source": [
    "## if with Tuple"
   ]
  },
  {
   "cell_type": "code",
   "execution_count": 13,
   "id": "5c399ae3",
   "metadata": {},
   "outputs": [
    {
     "name": "stdout",
     "output_type": "stream",
     "text": [
      "Value is present in tup\n"
     ]
    }
   ],
   "source": [
    "tup = ('a','b','c','d')\n",
    "if \"a\" in tup:\n",
    "    print(\"Value is present in tup\")\n",
    "else:\n",
    "    print(\"Value is not present in tup\")"
   ]
  },
  {
   "cell_type": "code",
   "execution_count": 16,
   "id": "e1988ee2",
   "metadata": {},
   "outputs": [
    {
     "name": "stdout",
     "output_type": "stream",
     "text": [
      "Enter any number9\n",
      "Value is not present in tup\n"
     ]
    }
   ],
   "source": [
    "tup = (1,2,3,5,6,8)\n",
    "num = int(input(\"Enter any number\"))\n",
    "if num in tup:\n",
    "    print(\"Value is present in tup\")\n",
    "else:\n",
    "    print(\"Value is not present in tup\")"
   ]
  },
  {
   "cell_type": "markdown",
   "id": "a55dc1fd",
   "metadata": {},
   "source": [
    "# Check if the number is odd or even"
   ]
  },
  {
   "cell_type": "code",
   "execution_count": 19,
   "id": "73ef3aa1",
   "metadata": {},
   "outputs": [
    {
     "name": "stdout",
     "output_type": "stream",
     "text": [
      "Enter any number :5\n",
      "Odd\n"
     ]
    }
   ],
   "source": [
    "n = int(input(\"Enter any number :\"))\n",
    "if n%2==0:\n",
    "    print(\"Even\")\n",
    "else:\n",
    "    print(\"Odd\")"
   ]
  },
  {
   "cell_type": "code",
   "execution_count": 21,
   "id": "7ef8d94e",
   "metadata": {},
   "outputs": [
    {
     "name": "stdout",
     "output_type": "stream",
     "text": [
      "Enter any number from 10-100:6\n",
      "Number is not in limit\n"
     ]
    }
   ],
   "source": [
    "# Nested if\n",
    "n = int(input(\"Enter any number from 10-100:\"))\n",
    "if n>10:\n",
    "    print(\"Number is above 10\")\n",
    "    if n<100:\n",
    "        print(\"Number is within range)\")\n",
    "else:\n",
    "    print(\"Number is not in limit\")"
   ]
  },
  {
   "cell_type": "code",
   "execution_count": 23,
   "id": "147b62df",
   "metadata": {},
   "outputs": [
    {
     "name": "stdout",
     "output_type": "stream",
     "text": [
      "Enter any number6\n",
      "wrong Input\n"
     ]
    }
   ],
   "source": [
    "# if elif\n",
    "n = int(input(\"Enter any number\"))\n",
    "if n==1:\n",
    "    print(\"One\")\n",
    "elif n==2:\n",
    "    print(\"Two\")\n",
    "elif n==3:\n",
    "    print(\"Three\")\n",
    "else:\n",
    "    print(\"wrong Input\")"
   ]
  },
  {
   "cell_type": "code",
   "execution_count": null,
   "id": "6bfdcb72",
   "metadata": {},
   "outputs": [],
   "source": []
  }
 ],
 "metadata": {
  "kernelspec": {
   "display_name": "Python 3 (ipykernel)",
   "language": "python",
   "name": "python3"
  },
  "language_info": {
   "codemirror_mode": {
    "name": "ipython",
    "version": 3
   },
   "file_extension": ".py",
   "mimetype": "text/x-python",
   "name": "python",
   "nbconvert_exporter": "python",
   "pygments_lexer": "ipython3",
   "version": "3.9.12"
  }
 },
 "nbformat": 4,
 "nbformat_minor": 5
}
