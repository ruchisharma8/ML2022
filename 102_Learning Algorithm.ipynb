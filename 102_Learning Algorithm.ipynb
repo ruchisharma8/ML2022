{
 "cells": [
  {
   "cell_type": "markdown",
   "metadata": {},
   "source": [
    "[flow chart](https://app.diagrams.net/)"
   ]
  },
  {
   "cell_type": "markdown",
   "metadata": {},
   "source": [
    "### What is algorithm\n",
    "- Commands\n",
    "- Automation\n",
    "- Set of instructions\n",
    "- Decision\n",
    "- Instructing what to do and when\n",
    "- Zero precision\n",
    "- Quick exceution"
   ]
  },
  {
   "cell_type": "markdown",
   "metadata": {},
   "source": [
    "### What is algorithm trading\n",
    "- Commands\n",
    "- Automation\n",
    "- Set of instructions\n",
    "- Decision\n",
    "- Instructing what to do and when\n",
    "- Zero precision\n",
    "- Quick exceution\n",
    "\n",
    "Above features are part of algorithmic trading. Trading based on a set of rules."
   ]
  },
  {
   "cell_type": "markdown",
   "metadata": {},
   "source": [
    "### Algorithm Languages\n",
    "- Matlab\n",
    "- C\n",
    "- C++\n",
    "- Java\n",
    "- SQL\n",
    "- Julia\n",
    "- Scala\n",
    "- R\n",
    "- Python\n"
   ]
  },
  {
   "cell_type": "markdown",
   "metadata": {},
   "source": [
    "### Why Python\n",
    "- Python provides features of object oriented programming.\n",
    "- Python is used for high performance computing\n",
    "- Python is very simple to code\n",
    "- Python syntax are very easy to understand\n",
    "- Python is scalable, it can be used to develop whole system with big data or big infrastructure\n",
    "- Python is good for data science and has many library\n",
    "- Python is good for financial market players for developing algorithmic trading plateform\n",
    "- Financial market players which use python are banks, financial institutions, BFSI\n",
    "- Python is good for IOT (Internet of Things) use cases and develop system around that\n",
    "- Python is used by Google, Yahoo, facebook, Microsoft and many IT companies for developing the system\n",
    "- Python is used to create app and software\n",
    "- Now a days data science, machine learning, deep learning, artificial intelligence is a buzz word. Python is heavily used to get solution on such domain"
   ]
  },
  {
   "cell_type": "markdown",
   "metadata": {},
   "source": [
    "### What is data?"
   ]
  },
  {
   "cell_type": "markdown",
   "metadata": {},
   "source": [
    "- Any kind of information is data\n",
    "    - unstructured data\n",
    "        - mail\n",
    "    - structured data\n",
    "        - Table format\n"
   ]
  },
  {
   "cell_type": "markdown",
   "metadata": {},
   "source": [
    "### Data set\n",
    "- Name\n",
    "- Email\n",
    "- Mobile contact\n",
    "- Experience in data science\n",
    "- Machine learning center name\n",
    "- How many minuts you are spending on whatsApp\n",
    "- How many minuts you are spending on facebook\n",
    "- How many minuts you are spending on twitter\n"
   ]
  },
  {
   "cell_type": "markdown",
   "metadata": {},
   "source": [
    "### Exercise1\n",
    "Write the name of wife\n",
    "    * if (Rahul) then\n",
    "        -ans\n",
    "    * if (Narendra) then\n",
    "        -ans\n",
    "    * if (Shashi) then\n",
    "        -ans"
   ]
  },
  {
   "cell_type": "markdown",
   "metadata": {},
   "source": [
    "### Pseudologic"
   ]
  },
  {
   "cell_type": "markdown",
   "metadata": {},
   "source": [
    "## Algorithm:\n",
    "\n",
    "### Naukasna:\n",
    "\n",
    "1. Lie down\n",
    "2. Leg 6 inch above ground\n",
    "3. head 6 inch above ground\n",
    "4. eyes parallel to feet finger\n",
    "5. come back slowly\n",
    "6. normal breath in and breath out.\n",
    "\n",
    "### Exercise:\n",
    "\n",
    "### Write similar algorithm for Dhanurasna."
   ]
  },
  {
   "cell_type": "markdown",
   "metadata": {},
   "source": [
    "[Top 10 roles in AI and data science](https://hackernoon.com/top-10-roles-for-your-data-science-team-e7f05d90d961)"
   ]
  },
  {
   "cell_type": "markdown",
   "metadata": {},
   "source": [
    "![](img/IIQF_LOGO.jpg)"
   ]
  },
  {
   "cell_type": "markdown",
   "metadata": {},
   "source": [
    "![](img/machine_learning_map.jpeg)"
   ]
  },
  {
   "cell_type": "markdown",
   "metadata": {},
   "source": [
    "![](\"IIQF LOGO.jpg\")"
   ]
  },
  {
   "cell_type": "markdown",
   "metadata": {},
   "source": [
    "### Statistics\n",
    "    - nrow\n",
    "    - ncolumn\n",
    "    - name of column\n",
    "    - operation on column\n",
    "    - numerical column\n",
    "        * mean\n",
    "        * variance\n",
    "        * standard deviation\n",
    "        * percentile\n",
    "    - visulization\n",
    "        - histogram\n",
    "        - box plot\n",
    "        - scatter plot\n",
    "    - categorical data\n",
    "        * count \n",
    "        * distribution\n",
    "        * participation"
   ]
  },
  {
   "cell_type": "markdown",
   "metadata": {},
   "source": [
    "### Home work\n",
    "- Install anaconda\n",
    "- Perform different cammand of anaconda\n",
    "- Start working with jupyter notebook\n",
    "- import pandas as pd\n",
    "- read csv file\n",
    "- describe\n",
    "- Explore pythong programming\n",
    "    - pandas\n",
    "    - matplotlib\n",
    "    - numpy\n",
    "    - for loop\n",
    "    - if\n",
    "    - functions, methods"
   ]
  },
  {
   "cell_type": "code",
   "execution_count": null,
   "metadata": {},
   "outputs": [],
   "source": []
  }
 ],
 "metadata": {
  "kernelspec": {
   "display_name": "Python 3",
   "language": "python",
   "name": "python3"
  },
  "language_info": {
   "codemirror_mode": {
    "name": "ipython",
    "version": 3
   },
   "file_extension": ".py",
   "mimetype": "text/x-python",
   "name": "python",
   "nbconvert_exporter": "python",
   "pygments_lexer": "ipython3",
   "version": "3.8.8"
  }
 },
 "nbformat": 4,
 "nbformat_minor": 2
}
