{
 "cells": [
  {
   "cell_type": "code",
   "execution_count": 2,
   "id": "421d5156",
   "metadata": {},
   "outputs": [],
   "source": [
    "import pandas as pd\n",
    "import numpy as np\n"
   ]
  },
  {
   "cell_type": "code",
   "execution_count": 16,
   "id": "286ca554",
   "metadata": {},
   "outputs": [],
   "source": [
    "data = pd.read_excel(\"Begur_20220618.xlsx\")"
   ]
  },
  {
   "cell_type": "code",
   "execution_count": 18,
   "id": "24f42ac3",
   "metadata": {},
   "outputs": [
    {
     "data": {
      "text/plain": [
       "Index(['Sl. No.', 'Timestamp', 'Your Name ?', 'Which class you are studying ?',\n",
       "       'What is your Age', 'Gender',\n",
       "       'Where do you stay (Your complete Address)',\n",
       "       'Which centre you are associated with ? (Write your area name if you are not aware of centre name )',\n",
       "       'Your Parents Name', 'Prakhanda', 'Khanda', 'Hall ticket',\n",
       "       'Unnamed: 12', 'Unnamed: 13'],\n",
       "      dtype='object')"
      ]
     },
     "execution_count": 18,
     "metadata": {},
     "output_type": "execute_result"
    }
   ],
   "source": [
    "data.columns"
   ]
  },
  {
   "cell_type": "code",
   "execution_count": 19,
   "id": "f0d45e57",
   "metadata": {},
   "outputs": [
    {
     "data": {
      "text/plain": [
       "RangeIndex(start=0, stop=744, step=1)"
      ]
     },
     "execution_count": 19,
     "metadata": {},
     "output_type": "execute_result"
    }
   ],
   "source": [
    "data.index"
   ]
  },
  {
   "cell_type": "code",
   "execution_count": 21,
   "id": "ecf4d355",
   "metadata": {},
   "outputs": [
    {
     "data": {
      "text/plain": [
       "<bound method NDFrame.describe of      Sl. No.               Timestamp       Your Name ?  \\\n",
       "0        NaN 2022-03-17 23:52:02.427         Suraj Pai   \n",
       "1        NaN 2022-03-17 23:53:48.512     SAANVI SURESH   \n",
       "2        NaN 2022-03-18 06:49:07.872  Nivaan S Dandina   \n",
       "3        1.0 2022-03-18 22:28:01.955   SAAGARIKA G RAO   \n",
       "4        NaN 2022-03-18 08:10:43.933  Shrihari Sundar    \n",
       "..       ...                     ...               ...   \n",
       "739      NaN                     NaT               NaN   \n",
       "740      NaN                     NaT               NaN   \n",
       "741     27.0 2022-05-15 19:04:41.908   Rahul Sudarshan   \n",
       "742     28.0 2022-05-17 19:37:34.403    Sthuti Bharath   \n",
       "743     29.0 2022-04-08 22:04:23.172             Aadya   \n",
       "\n",
       "    Which class you are studying ? What is your Age          Gender  \\\n",
       "0                     9th standard         14 years   Kishore - Boy   \n",
       "1                                8               14  Kishori - Girl   \n",
       "2                             8th                13   Kishore - Boy   \n",
       "3                                9               13  Kishori - Girl   \n",
       "4                              9th               13   Kishore - Boy   \n",
       "..                             ...              ...             ...   \n",
       "739                            NaN              NaN             NaN   \n",
       "740                            NaN              NaN             NaN   \n",
       "741                             11               16   Kishore - Boy   \n",
       "742                              7               12  Kishori - Girl   \n",
       "743                             10               15  Kishori - Girl   \n",
       "\n",
       "             Where do you stay (Your complete Address)  \\\n",
       "0    F-2, 966, AKSHAYA ROYALE APARTMENTS, 14TH CROS...   \n",
       "1    #552, Aashirvad, 5th main, Balaji Layout, Byan...   \n",
       "2    #316, 1st floor, 3rd main road, 3rd phase JP N...   \n",
       "3    105, bidare residency, 1044, 4th cr, 12th main...   \n",
       "4    E2-501, white House apts, 15th cross, 2nd bloc...   \n",
       "..                                                 ...   \n",
       "739                                                NaN   \n",
       "740                                                NaN   \n",
       "741  157, 2nd main 4th cross, Royal Shelters, DC Ha...   \n",
       "742  91, Sowrabha, Ganga Jamuna Road, 4th Cross, Ak...   \n",
       "743  52, Chittara, 3rd Cross, Lakeview residency. K...   \n",
       "\n",
       "    Which centre you are associated with ? (Write your area name if you are not aware of centre name )  \\\n",
       "0                                            Jayanagar                                                   \n",
       "1                            Sri Kumaran children home                                                   \n",
       "2                                Kishore Bharathi Exam                                                   \n",
       "3                                      Royal Shelters                                                    \n",
       "4                                               Hebbal                                                   \n",
       "..                                                 ...                                                   \n",
       "739                                                NaN                                                   \n",
       "740                                                NaN                                                   \n",
       "741                                    Royal Shelters                                                    \n",
       "742                                    Royal Shelters                                                    \n",
       "743                                    Royal Shelters                                                    \n",
       "\n",
       "                        Your Parents Name Prakhanda Khanda Hall ticket  \\\n",
       "0                              Shilpa Pai       JNR    NaN         NaN   \n",
       "1                                     NaN       JNR    NaN         NaN   \n",
       "2      Nivedita S Dandina & Sunil Dandina       JNR    NaN         NaN   \n",
       "3                           Gajendra rao         EC  Begur       EBR01   \n",
       "4                                Sundar k       MLP    NaN         NaN   \n",
       "..                                    ...       ...    ...         ...   \n",
       "739                                   NaN       NaN    NaN         NaN   \n",
       "740                                   NaN       NaN    NaN         NaN   \n",
       "741      Arathi Sudarshan and Sudarshan P        EC  Begur       EBR27   \n",
       "742  Bharath Kottadamane, Lakshmi Bharath        EC  Begur       EBR28   \n",
       "743                            Shrinivasa        EC  Begur       EBR29   \n",
       "\n",
       "    Unnamed: 12                             Unnamed: 13  \n",
       "0           NaN                                     NaN  \n",
       "1           NaN                                     NaN  \n",
       "2           NaN                                     NaN  \n",
       "3          paid                                     NaN  \n",
       "4           NaN                                     NaN  \n",
       "..          ...                                     ...  \n",
       "739         NaN                                     NaN  \n",
       "740         NaN                                     NaN  \n",
       "741        paid                                     NaN  \n",
       "742        paid  to Sharath Jee of LingaRajaPuramKhanda  \n",
       "743        paid                                     NaN  \n",
       "\n",
       "[744 rows x 14 columns]>"
      ]
     },
     "execution_count": 21,
     "metadata": {},
     "output_type": "execute_result"
    }
   ],
   "source": [
    "data.describe"
   ]
  },
  {
   "cell_type": "code",
   "execution_count": 22,
   "id": "3f97bd76",
   "metadata": {},
   "outputs": [
    {
     "data": {
      "text/plain": [
       "(744, 14)"
      ]
     },
     "execution_count": 22,
     "metadata": {},
     "output_type": "execute_result"
    }
   ],
   "source": [
    "data.shape"
   ]
  },
  {
   "cell_type": "code",
   "execution_count": null,
   "id": "9484450e",
   "metadata": {},
   "outputs": [],
   "source": []
  },
  {
   "cell_type": "code",
   "execution_count": null,
   "id": "899deb92",
   "metadata": {},
   "outputs": [],
   "source": []
  },
  {
   "cell_type": "code",
   "execution_count": null,
   "id": "b3081431",
   "metadata": {},
   "outputs": [],
   "source": []
  },
  {
   "cell_type": "code",
   "execution_count": null,
   "id": "15e23546",
   "metadata": {},
   "outputs": [],
   "source": []
  },
  {
   "cell_type": "code",
   "execution_count": null,
   "id": "7179a1f8",
   "metadata": {},
   "outputs": [],
   "source": []
  },
  {
   "cell_type": "code",
   "execution_count": null,
   "id": "b9714090",
   "metadata": {},
   "outputs": [],
   "source": []
  },
  {
   "cell_type": "code",
   "execution_count": null,
   "id": "44b3875e",
   "metadata": {},
   "outputs": [],
   "source": []
  },
  {
   "cell_type": "markdown",
   "id": "5d2271ca",
   "metadata": {},
   "source": [
    "homework\n",
    "\n",
    "- what is string\n",
    "- what is number\n",
    "- what is object\n"
   ]
  },
  {
   "cell_type": "code",
   "execution_count": null,
   "id": "296b8241",
   "metadata": {},
   "outputs": [],
   "source": []
  }
 ],
 "metadata": {
  "kernelspec": {
   "display_name": "Python 3 (ipykernel)",
   "language": "python",
   "name": "python3"
  },
  "language_info": {
   "codemirror_mode": {
    "name": "ipython",
    "version": 3
   },
   "file_extension": ".py",
   "mimetype": "text/x-python",
   "name": "python",
   "nbconvert_exporter": "python",
   "pygments_lexer": "ipython3",
   "version": "3.9.7"
  }
 },
 "nbformat": 4,
 "nbformat_minor": 5
}
