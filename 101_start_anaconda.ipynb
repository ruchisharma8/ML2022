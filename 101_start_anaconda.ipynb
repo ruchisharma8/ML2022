{
 "cells": [
  {
   "cell_type": "markdown",
   "metadata": {},
   "source": [
    "## [Anaconda Installation](https://www.anaconda.com/download/)"
   ]
  },
  {
   "cell_type": "markdown",
   "metadata": {},
   "source": [
    "- Download Anaconda with Python 3.8 version\n",
    "- For help, follow the [instructions](http://pythonforundergradengineers.com/installing-anaconda-on-windows.html)"
   ]
  },
  {
   "cell_type": "markdown",
   "metadata": {},
   "source": [
    "- Open conda prompt from windows start menu\n",
    "- check available environments\n",
    "    - conda info --envs\n",
    "- create new environment (pythonML)\n",
    "    - conda create -n pythonML python=3.5\n",
    "- activate pythonML\n",
    "    - activate pythonML\n",
    "- open jupyter notebook from the pythonML \n",
    "    - jupyter notebook\n"
   ]
  },
  {
   "cell_type": "markdown",
   "metadata": {},
   "source": [
    "### Instructions\n",
    "- open anaconda prompt\n",
    "- On conda command prompt try the command in next cell one by one for following\n",
    "- check how many environment you have\n",
    "- creating new environment, say pythonML\n",
    "- activate pythonML environment\n",
    "- install package nb_conda\n",
    "- install package from conda command prompt pandas, sklearn, matplotlib\n",
    "- open jupyter notebook\n",
    "- install package from jupyter notebook cell\n",
    "- ! pip install package_name"
   ]
  },
  {
   "cell_type": "markdown",
   "metadata": {},
   "source": [
    "### Working with Conda command prompt\n",
    "\n",
    "    - $conda info --envs\n",
    "\n",
    "\n",
    "    - $conda create -n pythonML python=3.5\n",
    "\n",
    "    - $activate pythonML\n",
    "    \n",
    "    - $deactivate pythonML\n",
    "\n",
    "    - $conda install nb_conda\n",
    "\n",
    "    - $conda install pandas\n",
    "\n",
    "    - $conda install sklearn\n",
    "    - $conda numpy\n",
    "    - $conda install matplotlib\n",
    "    - $jupyter notebook\n",
    "    - ! pip install matplotlib\n",
    "    - ! pip install pandas\n",
    "    - ! pip install sklearn"
   ]
  },
  {
   "cell_type": "code",
   "execution_count": null,
   "metadata": {},
   "outputs": [],
   "source": []
  },
  {
   "cell_type": "code",
   "execution_count": null,
   "metadata": {},
   "outputs": [],
   "source": []
  }
 ],
 "metadata": {
  "kernelspec": {
   "display_name": "Python 3",
   "language": "python",
   "name": "python3"
  },
  "language_info": {
   "codemirror_mode": {
    "name": "ipython",
    "version": 3
   },
   "file_extension": ".py",
   "mimetype": "text/x-python",
   "name": "python",
   "nbconvert_exporter": "python",
   "pygments_lexer": "ipython3",
   "version": "3.8.8"
  }
 },
 "nbformat": 4,
 "nbformat_minor": 2
}
