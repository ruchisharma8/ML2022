{
 "cells": [
  {
   "cell_type": "markdown",
   "id": "1d60ca3e",
   "metadata": {},
   "source": [
    "# looping Statements"
   ]
  },
  {
   "cell_type": "markdown",
   "id": "721815b6",
   "metadata": {},
   "source": [
    "### While loop in Python\n",
    "    + Intialization\n",
    "    + Condition\n",
    "    + Increment"
   ]
  },
  {
   "cell_type": "code",
   "execution_count": 2,
   "id": "2430d155",
   "metadata": {},
   "outputs": [
    {
     "name": "stdout",
     "output_type": "stream",
     "text": [
      "Hello 1\n",
      "Hello 2\n",
      "Hello 3\n",
      "Hello 4\n",
      "Hello 5\n",
      "Good Bye\n"
     ]
    }
   ],
   "source": [
    "i = 1 # Intialization\n",
    "while i<=5: #Condition\n",
    "    print(\"Hello\", i)\n",
    "    i = i+1\n",
    "print(\"Good Bye\")"
   ]
  },
  {
   "cell_type": "code",
   "execution_count": 3,
   "id": "22b76574",
   "metadata": {},
   "outputs": [
    {
     "name": "stdout",
     "output_type": "stream",
     "text": [
      "Hello 5\n",
      "Hello 4\n",
      "Hello 3\n",
      "Hello 2\n",
      "Hello 1\n"
     ]
    }
   ],
   "source": [
    "i =5\n",
    "while i>=1:\n",
    "    print(\"Hello\", i)\n",
    "    i = i-1"
   ]
  },
  {
   "cell_type": "code",
   "execution_count": 6,
   "id": "97e08cf2",
   "metadata": {},
   "outputs": [
    {
     "name": "stdout",
     "output_type": "stream",
     "text": [
      "12 * 1 = 12\n",
      "12 * 2 = 24\n",
      "12 * 3 = 36\n",
      "12 * 4 = 48\n",
      "12 * 5 = 60\n",
      "12 * 6 = 72\n",
      "12 * 7 = 84\n",
      "12 * 8 = 96\n",
      "12 * 9 = 108\n",
      "12 * 10 = 120\n"
     ]
    }
   ],
   "source": [
    "# Print Table of 12\n",
    "n=12\n",
    "i =1\n",
    "while i<=10:\n",
    "    print(n, \"*\",i,\"=\" ,n*i)\n",
    "    i =i+1"
   ]
  },
  {
   "cell_type": "code",
   "execution_count": 7,
   "id": "af6a13bc",
   "metadata": {},
   "outputs": [
    {
     "name": "stdout",
     "output_type": "stream",
     "text": [
      "Enter any number:55\n",
      "55 * 1 = 55\n",
      "55 * 2 = 110\n",
      "55 * 3 = 165\n",
      "55 * 4 = 220\n",
      "55 * 5 = 275\n",
      "55 * 6 = 330\n",
      "55 * 7 = 385\n",
      "55 * 8 = 440\n",
      "55 * 9 = 495\n",
      "55 * 10 = 550\n"
     ]
    }
   ],
   "source": [
    "# Print any number table\n",
    "n=int(input(\"Enter any number:\"))\n",
    "i =1\n",
    "while i<=10:\n",
    "    print(n, \"*\",i,\"=\" ,n*i)\n",
    "    i =i+1"
   ]
  },
  {
   "cell_type": "markdown",
   "id": "cde79afd",
   "metadata": {},
   "source": [
    "## For Loop in Python\n",
    "    + No Intialization\n",
    "    + No Condition\n",
    "    + No Increment\n"
   ]
  },
  {
   "cell_type": "markdown",
   "id": "3f2cace3",
   "metadata": {},
   "source": [
    "Print all values from a sequence (List, string, set, dict)"
   ]
  },
  {
   "cell_type": "code",
   "execution_count": null,
   "id": "429f7afd",
   "metadata": {},
   "outputs": [],
   "source": [
    "# Syntax\n",
    "for i in sequence:\n",
    "    print(i)"
   ]
  },
  {
   "cell_type": "code",
   "execution_count": 9,
   "id": "489f26bf",
   "metadata": {},
   "outputs": [
    {
     "name": "stdout",
     "output_type": "stream",
     "text": [
      "P\n",
      "y\n",
      "t\n",
      "h\n",
      "o\n",
      "n\n"
     ]
    }
   ],
   "source": [
    "# String\n",
    "s=\"Python\"\n",
    "for i in s:\n",
    "    print(i)"
   ]
  },
  {
   "cell_type": "code",
   "execution_count": 10,
   "id": "dac46f71",
   "metadata": {},
   "outputs": [
    {
     "data": {
      "text/plain": [
       "['Apple', 'Grapes', 'Kiwi']"
      ]
     },
     "execution_count": 10,
     "metadata": {},
     "output_type": "execute_result"
    }
   ],
   "source": [
    "# List\n",
    "li = [\"Apple\", \"Grapes\", \"Kiwi\"]\n",
    "li"
   ]
  },
  {
   "cell_type": "code",
   "execution_count": 12,
   "id": "f421d766",
   "metadata": {},
   "outputs": [
    {
     "name": "stdout",
     "output_type": "stream",
     "text": [
      "Apple 5\n",
      "Grapes 6\n",
      "Kiwi 4\n"
     ]
    }
   ],
   "source": [
    "for i in li:\n",
    "    print(i, len(i))\n",
    "    "
   ]
  },
  {
   "cell_type": "code",
   "execution_count": 13,
   "id": "7dabf375",
   "metadata": {},
   "outputs": [
    {
     "name": "stdout",
     "output_type": "stream",
     "text": [
      "0\n",
      "1\n",
      "2\n",
      "3\n",
      "4\n",
      "5\n",
      "6\n"
     ]
    }
   ],
   "source": [
    "# Range function\n",
    "for i in range(7):\n",
    "    print(i)"
   ]
  },
  {
   "cell_type": "code",
   "execution_count": 15,
   "id": "a101b0c3",
   "metadata": {},
   "outputs": [
    {
     "name": "stdout",
     "output_type": "stream",
     "text": [
      "7\n",
      "8\n",
      "9\n",
      "10\n",
      "11\n",
      "12\n",
      "13\n"
     ]
    }
   ],
   "source": [
    "for i in range(7, 14):\n",
    "    print(i)"
   ]
  },
  {
   "cell_type": "code",
   "execution_count": 16,
   "id": "41b9e473",
   "metadata": {},
   "outputs": [
    {
     "name": "stdout",
     "output_type": "stream",
     "text": [
      "2\n",
      "4\n",
      "6\n",
      "8\n",
      "10\n"
     ]
    }
   ],
   "source": [
    "# If in for loop\n",
    "for i in range(1, 12):\n",
    "    if i %2==0:\n",
    "        print(i)"
   ]
  },
  {
   "cell_type": "code",
   "execution_count": 17,
   "id": "d1e8441a",
   "metadata": {},
   "outputs": [
    {
     "name": "stdout",
     "output_type": "stream",
     "text": [
      "2\n",
      "3\n",
      "4\n",
      "5\n",
      "6\n",
      "7\n",
      "8\n",
      "9\n",
      "10\n",
      "11\n",
      "Finished\n"
     ]
    }
   ],
   "source": [
    "# else in for loop\n",
    "for i in range(2,12):\n",
    "    print(i)\n",
    "else: \n",
    "    print(\"Finished\")"
   ]
  },
  {
   "cell_type": "code",
   "execution_count": 19,
   "id": "6802d547",
   "metadata": {},
   "outputs": [
    {
     "name": "stdout",
     "output_type": "stream",
     "text": [
      "Even 2\n",
      "Odd 3\n",
      "Even 4\n",
      "Odd 5\n",
      "Even 6\n",
      "Odd 7\n",
      "Even 8\n",
      "Odd 9\n",
      "Even 10\n",
      "Odd 11\n"
     ]
    }
   ],
   "source": [
    "# If -else - Even/Odd\n",
    "for num in range(2,12):\n",
    "    if num%2==0:\n",
    "        print(\"Even\", num)\n",
    "    else:\n",
    "        print(\"Odd\", num)"
   ]
  },
  {
   "cell_type": "code",
   "execution_count": 21,
   "id": "b3d9ed49",
   "metadata": {},
   "outputs": [
    {
     "name": "stdout",
     "output_type": "stream",
     "text": [
      "1\n",
      "2\n",
      "3\n",
      "4\n",
      "5\n",
      "6\n",
      "7\n",
      "8\n",
      "9\n"
     ]
    }
   ],
   "source": [
    "##\n",
    "for i in range(1, 10):\n",
    "    print(i)"
   ]
  },
  {
   "cell_type": "markdown",
   "id": "5e60b458",
   "metadata": {},
   "source": [
    "# Break Continue"
   ]
  },
  {
   "cell_type": "code",
   "execution_count": null,
   "id": "3f90c658",
   "metadata": {},
   "outputs": [],
   "source": []
  }
 ],
 "metadata": {
  "kernelspec": {
   "display_name": "Python 3 (ipykernel)",
   "language": "python",
   "name": "python3"
  },
  "language_info": {
   "codemirror_mode": {
    "name": "ipython",
    "version": 3
   },
   "file_extension": ".py",
   "mimetype": "text/x-python",
   "name": "python",
   "nbconvert_exporter": "python",
   "pygments_lexer": "ipython3",
   "version": "3.9.12"
  }
 },
 "nbformat": 4,
 "nbformat_minor": 5
}
